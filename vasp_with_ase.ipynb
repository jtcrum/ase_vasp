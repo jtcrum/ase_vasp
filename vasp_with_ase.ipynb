{
 "cells": [
  {
   "cell_type": "markdown",
   "metadata": {},
   "source": [
    "# Using the ASE VASP Calculator\n",
    "Here I will show you how to use the built in Vasp calculator with ASE. There is a little bit of set up required.\n",
    "## Step 0:\n",
    "Install ASE version 3.20.1 with:\n",
    "~~~\n",
    "pip install --user --upgrade ase==3.20.1\n",
    "~~~\n",
    "\n",
    "## Step 1:\n",
    "Put the run_vasp.py somewhere in your work space.\n",
    "\n",
    "In the run_vasp.py file you can change two variables depending on how you want to submit jobs.\n",
    "~~~\n",
    "q = '*@@schneider_q16copt'\n",
    "~~~\n",
    "* change this to the queue you want to submit to\n",
    "\n",
    "~~~\n",
    "pe = 'mpi-64 64'\n",
    "~~~\n",
    "* change this to the parallel enviornment you want to use\n",
    "\n",
    "\n",
    "\n",
    "## Step 2:\n",
    "Add the following lines to your .bashrc:\n",
    "~~~\n",
    "export VASP_SCRIPT=~/path/to/run_vasp.py\n",
    "export VASP_PP_PATH=~/path/to/POTCARs\n",
    "~~~\n",
    "## Step 3:\n",
    "Here we have to modify the ase code a little bit. If you update ase these changes will go away. Luckily I have this reference sheet for you, so you can go back and fix it.\n",
    "\n",
    "### Edit vasp Calculator Files\n",
    "The location of these files will depend on how you installed ASE, but if you installed it the way the website recomends the files will be in:\n",
    "~~~\n",
    "~/.local/lib/python3.x/site-packages/ase\n",
    "~~~\n",
    "* ase/calculators/vasp/creat_input.py\n",
    "  * line 1070: change 'lda' to 'pbe'\n",
    "  * the original line states:\n",
    "  ~~~\n",
    "  p.update({'pp': 'lda'})\n",
    "  ~~~\n",
    "\n",
    "* ase/calculators/vasp/vasp.py\n",
    "  * comment out lines 330 & 331\n",
    "  * these lines state:\n",
    "  ~~~\n",
    "  self.update_atoms(atoms)\n",
    "  self.read_results()\n",
    "  ~~~"
   ]
  },
  {
   "cell_type": "markdown",
   "metadata": {},
   "source": [
    "# Running Jobs\n",
    "So you set up ase, you made the recommended modifcations, and now you are ready to calculate things.\n",
    "\n",
    "We will start with running new jobs using ase. "
   ]
  },
  {
   "cell_type": "code",
   "execution_count": 2,
   "metadata": {},
   "outputs": [],
   "source": [
    "from ase import Atoms,Atom\n",
    "from ase.io import read,write\n",
    "from ase.calculators.vasp import Vasp"
   ]
  },
  {
   "cell_type": "code",
   "execution_count": 2,
   "metadata": {},
   "outputs": [],
   "source": [
    "# build a water molecule\n",
    "atoms = Atoms([Atom('H', [0.5960812, -0.7677068, 0.000]),\n",
    "               Atom('O', [0.00000, 0.00000, 0.00000]),\n",
    "               Atom('H', [0.5960812, 0.76776068, 0.00000])],\n",
    "               cell = (8,8,8),\n",
    "             pbc = [1,1,1])\n",
    "atoms.center()"
   ]
  },
  {
   "cell_type": "code",
   "execution_count": 8,
   "metadata": {},
   "outputs": [],
   "source": [
    "# set up a calculator, i'm doing a simple geometry optimization\n",
    "calc = Vasp(directory ='h2o',\n",
    "            encut=400,\n",
    "            xc='pbe',\n",
    "            ismear = 0,\n",
    "            ibrion =1,\n",
    "            ediff = 1e-4,\n",
    "            ncore =64,\n",
    "            ediffg = -0.03,\n",
    "            nsw = 500)\n"
   ]
  },
  {
   "cell_type": "code",
   "execution_count": 9,
   "metadata": {},
   "outputs": [],
   "source": [
    "# run that calculator on your atoms\n",
    "calc.calculate(atoms)"
   ]
  },
  {
   "cell_type": "markdown",
   "metadata": {},
   "source": [
    "# Wait\n",
    "Now we need to wait for this calculation to run. Go get a cup of coffee, read a paper, check on your dog. \n",
    "\n",
    "Once the calculation is done, you can get the results by doing the following:"
   ]
  },
  {
   "cell_type": "code",
   "execution_count": 3,
   "metadata": {},
   "outputs": [
    {
     "name": "stdout",
     "output_type": "stream",
     "text": [
      "-14.22667867\n",
      "[[-0.00174262 -0.00041778  0.        ]\n",
      " [ 0.00348524  0.          0.        ]\n",
      " [-0.00174262  0.00041778  0.        ]]\n"
     ]
    }
   ],
   "source": [
    "calc = Vasp(directory='h2o')\n",
    "calc.read()\n",
    "atoms = calc.get_atoms()\n",
    "print('Converged? ', calc.converged)\n",
    "print(atoms.get_potential_energy())\n",
    "print(atoms.get_forces())"
   ]
  },
  {
   "cell_type": "markdown",
   "metadata": {},
   "source": [
    "# What About Jobs Ran Before We Used ASE\n",
    "Don't worry, we can load them with this calculator now and get the results. "
   ]
  },
  {
   "cell_type": "code",
   "execution_count": 5,
   "metadata": {},
   "outputs": [],
   "source": [
    "# let's load an old job \n",
    "calc = Vasp(directory='afv_test')"
   ]
  },
  {
   "cell_type": "code",
   "execution_count": 6,
   "metadata": {},
   "outputs": [
    {
     "name": "stdout",
     "output_type": "stream",
     "text": [
      "-711.60269729\n"
     ]
    }
   ],
   "source": [
    "# the difference here is we need to tell ase to read the results\n",
    "calc.read()\n",
    "atoms=calc.get_atoms()\n",
    "print(atoms.get_potential_energy())"
   ]
  },
  {
   "cell_type": "code",
   "execution_count": null,
   "metadata": {},
   "outputs": [],
   "source": []
  }
 ],
 "metadata": {
  "kernelspec": {
   "display_name": "Python 3",
   "language": "python",
   "name": "python3"
  },
  "language_info": {
   "codemirror_mode": {
    "name": "ipython",
    "version": 3
   },
   "file_extension": ".py",
   "mimetype": "text/x-python",
   "name": "python",
   "nbconvert_exporter": "python",
   "pygments_lexer": "ipython3",
   "version": "3.7.6"
  }
 },
 "nbformat": 4,
 "nbformat_minor": 2
}
